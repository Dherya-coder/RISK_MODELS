{
 "cells": [
  {
   "cell_type": "code",
   "execution_count": 1,
   "id": "336bf73a",
   "metadata": {},
   "outputs": [
    {
     "name": "stdout",
     "output_type": "stream",
     "text": [
      "Optimal portfolio: [ 7.33023916e-19  5.05005563e-02  3.56331294e-02  5.14153747e-02\n",
      "  4.41330074e-02  6.23785687e-03  8.34305274e-03 -9.30804370e-19\n",
      "  2.43596127e-03  4.12982535e-02  3.94049123e-02  3.83429659e-03\n",
      "  2.42052965e-02  2.54364678e-04  5.96311195e-19  1.03138997e-02\n",
      "  1.74318324e-02  2.70791892e-02 -3.75952941e-19 -2.05998413e-18\n",
      "  1.74058318e-02  5.30613510e-04  3.26230750e-02  2.43028847e-02\n",
      "  8.99084395e-03  1.48432795e-02  2.12954703e-02  4.15189440e-02\n",
      "  1.81069467e-02  2.17284082e-02  1.74714299e-02  2.26742303e-04\n",
      "  2.27933735e-02  1.44338445e-20  3.28830460e-02  3.71368909e-02\n",
      "  3.51409046e-02  2.36214544e-19  3.17319881e-19  4.58696914e-02\n",
      "  1.70078316e-02  1.42930367e-02  6.87807071e-05  4.00021604e-03\n",
      "  3.82863662e-02  1.56800195e-02  1.85585402e-02  2.14684466e-02\n",
      "  1.75721330e-02  4.34442836e-02  5.42309857e-02]\n",
      "Investment Strategy: [ 7.33023916e-14  5.05005563e+03  3.56331294e+03  5.14153747e+03\n",
      "  4.41330074e+03  6.23785687e+02  8.34305274e+02 -9.30804370e-14\n",
      "  2.43596127e+02  4.12982535e+03  3.94049123e+03  3.83429659e+02\n",
      "  2.42052965e+03  2.54364678e+01  5.96311195e-14  1.03138997e+03\n",
      "  1.74318324e+03  2.70791892e+03 -3.75952941e-14 -2.05998413e-13\n",
      "  1.74058318e+03  5.30613510e+01  3.26230750e+03  2.43028847e+03\n",
      "  8.99084395e+02  1.48432795e+03  2.12954703e+03  4.15189440e+03\n",
      "  1.81069467e+03  2.17284082e+03  1.74714299e+03  2.26742303e+01\n",
      "  2.27933735e+03  1.44338445e-15  3.28830460e+03  3.71368909e+03\n",
      "  3.51409046e+03  2.36214544e-14  3.17319881e-14  4.58696914e+03\n",
      "  1.70078316e+03  1.42930367e+03  6.87807071e+00  4.00021604e+02\n",
      "  3.82863662e+03  1.56800195e+03  1.85585402e+03  2.14684466e+03\n",
      "  1.75721330e+03  4.34442836e+03  5.42309857e+03]\n",
      "Variance Risk: 0.008122468461888958\n",
      "Total Expected Return 0.0006465905506470591\n"
     ]
    }
   ],
   "source": [
    "import pandas as pd\n",
    "import numpy as np\n",
    "from scipy.optimize import minimize\n",
    "import math\n",
    "#taking initial investment sum of 100000\n",
    "initial_sum=100000\n",
    "# Read and process data\n",
    "df = pd.read_csv('RATES_ASSETS.csv')\n",
    "df = df.apply(lambda col: col.fillna(col.mean()), axis=0)\n",
    "col_arr = {}\n",
    "arr_list = []\n",
    "mu = []\n",
    "\n",
    "for i in range(len(df.columns)):\n",
    "    col_name = df.columns[i]\n",
    "    col_arr[i+1] = df[col_name].to_numpy()\n",
    "    mu.append(np.mean(col_arr[i+1]))\n",
    "    arr_list.append(col_arr[i+1])\n",
    "\n",
    "data_matrix = np.array(arr_list)\n",
    "\n",
    "# Covariance matrix\n",
    "cov_mat = np.cov(data_matrix)\n",
    "n = len(df.columns)\n",
    "\n",
    "e = np.ones(n)\n",
    "\n",
    "# Objective function (minimize variance)\n",
    "def objective(w):\n",
    "    return w.T @ cov_mat @ w\n",
    "\n",
    "# Constraint: eTw = 1 and wi >= 0\n",
    "constraints = [{'type': 'eq', 'fun': lambda w: np.sum(w) - 1},  # eTw = 1\n",
    "               {'type': 'ineq', 'fun': lambda w: w}]            # w >= 0\n",
    "\n",
    "w0 = np.ones(n) / n\n",
    "\n",
    "# Minimize variance\n",
    "result = minimize(objective, w0, method='SLSQP', constraints=constraints)\n",
    "w= result.x\n",
    "investment_portfolio=initial_sum*w\n",
    "\n",
    "# Display results\n",
    "print(\"Optimal portfolio:\", w)\n",
    "print(\"Investment Strategy:\",investment_portfolio)\n",
    "print(\"Variance Risk:\", math.sqrt(objective(w)))\n",
    "print(\"Total Expected Return\",np.dot(w.T,mu))"
   ]
  },
  {
   "cell_type": "code",
   "execution_count": null,
   "id": "58b1a8c3",
   "metadata": {},
   "outputs": [],
   "source": []
  }
 ],
 "metadata": {
  "kernelspec": {
   "display_name": "Python 3 (ipykernel)",
   "language": "python",
   "name": "python3"
  },
  "language_info": {
   "codemirror_mode": {
    "name": "ipython",
    "version": 3
   },
   "file_extension": ".py",
   "mimetype": "text/x-python",
   "name": "python",
   "nbconvert_exporter": "python",
   "pygments_lexer": "ipython3",
   "version": "3.11.4"
  }
 },
 "nbformat": 4,
 "nbformat_minor": 5
}
